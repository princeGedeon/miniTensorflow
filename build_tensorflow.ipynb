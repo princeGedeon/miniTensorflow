{
  "nbformat": 4,
  "nbformat_minor": 0,
  "metadata": {
    "colab": {
      "provenance": [],
      "authorship_tag": "ABX9TyPO0r1q53eteuKE9qbTgp4g",
      "include_colab_link": true
    },
    "kernelspec": {
      "name": "python3",
      "display_name": "Python 3"
    },
    "language_info": {
      "name": "python"
    }
  },
  "cells": [
    {
      "cell_type": "markdown",
      "metadata": {
        "id": "view-in-github",
        "colab_type": "text"
      },
      "source": [
        "<a href=\"https://colab.research.google.com/github/princeGedeon/miniTensorflow/blob/main/build_tensorflow.ipynb\" target=\"_parent\"><img src=\"https://colab.research.google.com/assets/colab-badge.svg\" alt=\"Open In Colab\"/></a>"
      ]
    },
    {
      "cell_type": "code",
      "execution_count": null,
      "metadata": {
        "id": "DNNgp-AVSpE8"
      },
      "outputs": [],
      "source": [
        "import numpy as np"
      ]
    },
    {
      "cell_type": "code",
      "source": [
        "# Créons une boite\n",
        "\n",
        "class Boite:\n",
        "  \"\"\"\n",
        "  On a une boite générique sans parametre\n",
        "  \"\"\"\n",
        "\n",
        "  def __init__(self):\n",
        "    pass\n",
        "\n",
        "  #La boite doit avoir une fonction forward qui recoir une entrée et ressort une sortie\n",
        "  def forward(self,inputs):\n",
        "    self.inputs=inputs\n",
        "    self.output=self.operation()\n",
        "    return self.output\n",
        "\n",
        "\n",
        "  def backward(self,derivee_output):\n",
        "    assert derivee_output.shape ==self.output.shape, f\"La dérivée output reçcu a un shape {derivee_output.shape} et différent du shape du param : {self.output.shape}\"\n",
        "    self.derivee_inputs=self.gradient(derivee_output)\n",
        "    assert self.derivee_inputs.shape ==self.inputs.shape, f\"La dérivée output reçcu a un shape {self.derivee_inputs.shape} et différent du shape du param : {self.inputs.shape}\"\n",
        "\n",
        "\n",
        "\n",
        "  ###Operation\n",
        "  def operation(self):\n",
        "    pass\n",
        "\n",
        "  def gradient(self,derivee_output):\n",
        "    pass"
      ],
      "metadata": {
        "id": "md5jYnMiWDxN"
      },
      "execution_count": null,
      "outputs": []
    },
    {
      "cell_type": "code",
      "source": [
        "# Créons une boite\n",
        "\n",
        "class BoiteParam:\n",
        "  \"\"\"\n",
        "  On a une boite générique sans parametre\n",
        "\n",
        "\n",
        "  \"\"\"\n",
        "\n",
        "  def __init__(self,param):\n",
        "    self.param=param\n",
        "\n",
        "  #La boite doit avoir une fonction forward qui recoir une entrée et ressort une sortie\n",
        "  def forward(self,inputs):\n",
        "    self.inputs=inputs\n",
        "    self.output=self.operation()\n",
        "    return self.output\n",
        "\n",
        "\n",
        "  def backward(self,derivee_output):\n",
        "    assert derivee_output.shape == self.output.shape, f\"La dérivée output reçcu a un shape {derivee_output.shape} et différent du shape du param : {self.output.shape}\"\n",
        "\n",
        "    self.derivee_inputs=self.gradient(derivee_output)\n",
        "\n",
        "    assert self.derivee_inputs.shape ==self.inputs.shape, f\"La dérivée output reçcu a un shape {self.derivee_inputs.shape} et différent du shape du param : {self.inputs.shape}\"\n",
        "\n",
        "    self.derivee_param=self.gradient_param(derivee_output)\n",
        "    #Verification\n",
        "    assert self.derivee_param.shape ==self.param.shape, f\"La dérivée de param a un shape {self.derivee_param.shape} et différent du shape du param : {self.param.shape}\"\n",
        "\n",
        "\n",
        "  ###Operation\n",
        "  def operation(self):\n",
        "    pass\n",
        "\n",
        "  def gradient(self,derivee_output):\n",
        "    pass\n",
        "\n",
        "  def gradient_param(self,derivee_output):\n",
        "    pass"
      ],
      "metadata": {
        "id": "fvoVm9sGXOkU"
      },
      "execution_count": null,
      "outputs": []
    },
    {
      "cell_type": "code",
      "source": [],
      "metadata": {
        "id": "gaJJcYAyZEC2"
      },
      "execution_count": null,
      "outputs": []
    },
    {
      "cell_type": "markdown",
      "source": [
        "### Creation des Opérations"
      ],
      "metadata": {
        "id": "R8BawpnsZKp3"
      }
    },
    {
      "cell_type": "code",
      "source": [
        "# La class Dot\n",
        "\n",
        "class Dot(BoiteParam):\n",
        "  \"\"\"\n",
        "  La clase pour le produit matricielle\n",
        "  \"\"\"\n",
        "  def __init__(self,weights):\n",
        "    super().__init__(weights)\n",
        "\n",
        "  def operation(self):\n",
        "    return np.dot(self.inputs,self.param)\n",
        "\n",
        "  def gradient(self,derivee_output):\n",
        "    \"\"\"\n",
        "    M=XW\n",
        "    dM/dW = Transposé de X\n",
        "    dM/dX = Transposé de W\n",
        "    \"\"\"\n",
        "    return np.dot(derivee_output,self.param.T)\n",
        "\n",
        "  def gradient(self,derivee_output):\n",
        "    #M=XW\n",
        "    #dM/dW = Transposé de X\n",
        "    #dM/dX = Transposé de W\n",
        "    return np.dot(self.inputs.T ,derivee_output)\n",
        "\n",
        "  def __repr__(self):\n",
        "    return \"DotProduct\""
      ],
      "metadata": {
        "id": "USsAh4UGZNJU"
      },
      "execution_count": null,
      "outputs": []
    },
    {
      "cell_type": "code",
      "source": [
        "X=np.array([\n",
        "    [2,3,-2],\n",
        "    [4,5,-1],\n",
        "    [-4,5,3],\n",
        "    [6,8,5]\n",
        "])\n",
        "\n",
        "X.shape"
      ],
      "metadata": {
        "colab": {
          "base_uri": "https://localhost:8080/"
        },
        "id": "bVd1mtqkavxl",
        "outputId": "3f79441a-d5db-4e84-a95c-846322ad61f5"
      },
      "execution_count": null,
      "outputs": [
        {
          "output_type": "execute_result",
          "data": {
            "text/plain": [
              "(4, 3)"
            ]
          },
          "metadata": {},
          "execution_count": 53
        }
      ]
    },
    {
      "cell_type": "code",
      "source": [
        "W=np.array([\n",
        "    [4500],\n",
        "    [0.5555],\n",
        "    [454]\n",
        "])\n",
        "\n",
        "W.shape"
      ],
      "metadata": {
        "colab": {
          "base_uri": "https://localhost:8080/"
        },
        "id": "gLelxCgKbJlx",
        "outputId": "b292c37b-bbb3-470e-da4b-2ef04b7da9f4"
      },
      "execution_count": null,
      "outputs": [
        {
          "output_type": "execute_result",
          "data": {
            "text/plain": [
              "(3, 1)"
            ]
          },
          "metadata": {},
          "execution_count": 54
        }
      ]
    },
    {
      "cell_type": "code",
      "source": [
        "np.dot(X,W)"
      ],
      "metadata": {
        "colab": {
          "base_uri": "https://localhost:8080/"
        },
        "id": "FmTTHvnwbTaa",
        "outputId": "d6a04ac7-409d-4a76-960c-018ad7696e8f"
      },
      "execution_count": null,
      "outputs": [
        {
          "output_type": "execute_result",
          "data": {
            "text/plain": [
              "array([[  8093.6665],\n",
              "       [ 17548.7775],\n",
              "       [-16635.2225],\n",
              "       [ 29274.444 ]])"
            ]
          },
          "metadata": {},
          "execution_count": 49
        }
      ]
    },
    {
      "cell_type": "code",
      "source": [
        "M=Dot(weights=W)\n",
        "out=M.forward(X)"
      ],
      "metadata": {
        "id": "6tDtKm0kbU_M"
      },
      "execution_count": null,
      "outputs": []
    },
    {
      "cell_type": "code",
      "source": [
        "dout=np.random.rand(4,1)\n",
        "dout"
      ],
      "metadata": {
        "colab": {
          "base_uri": "https://localhost:8080/"
        },
        "id": "weTrsIrFbgZ5",
        "outputId": "566648eb-1c63-4509-f6af-988ddea6092c"
      },
      "execution_count": null,
      "outputs": [
        {
          "output_type": "execute_result",
          "data": {
            "text/plain": [
              "array([[0.2751865 ],\n",
              "       [0.6979042 ],\n",
              "       [0.22935647],\n",
              "       [0.42067831]])"
            ]
          },
          "metadata": {},
          "execution_count": 51
        }
      ]
    },
    {
      "cell_type": "code",
      "source": [
        "M.backward(dout)"
      ],
      "metadata": {
        "colab": {
          "base_uri": "https://localhost:8080/",
          "height": 314
        },
        "id": "OIeFmYg1cSLn",
        "outputId": "0abed489-872c-4e60-d39d-4ebbdad2e212"
      },
      "execution_count": null,
      "outputs": [
        {
          "output_type": "error",
          "ename": "AssertionError",
          "evalue": "ignored",
          "traceback": [
            "\u001b[0;31m---------------------------------------------------------------------------\u001b[0m",
            "\u001b[0;31mAssertionError\u001b[0m                            Traceback (most recent call last)",
            "\u001b[0;32m<ipython-input-52-732d1bc66150>\u001b[0m in \u001b[0;36m<cell line: 1>\u001b[0;34m()\u001b[0m\n\u001b[0;32m----> 1\u001b[0;31m \u001b[0mM\u001b[0m\u001b[0;34m.\u001b[0m\u001b[0mbackward\u001b[0m\u001b[0;34m(\u001b[0m\u001b[0mdout\u001b[0m\u001b[0;34m)\u001b[0m\u001b[0;34m\u001b[0m\u001b[0;34m\u001b[0m\u001b[0m\n\u001b[0m",
            "\u001b[0;32m<ipython-input-45-423d7cc0eacd>\u001b[0m in \u001b[0;36mbackward\u001b[0;34m(self, derivee_output)\u001b[0m\n\u001b[1;32m     23\u001b[0m     \u001b[0mself\u001b[0m\u001b[0;34m.\u001b[0m\u001b[0mderivee_inputs\u001b[0m\u001b[0;34m=\u001b[0m\u001b[0mself\u001b[0m\u001b[0;34m.\u001b[0m\u001b[0mgradient\u001b[0m\u001b[0;34m(\u001b[0m\u001b[0mderivee_output\u001b[0m\u001b[0;34m)\u001b[0m\u001b[0;34m\u001b[0m\u001b[0;34m\u001b[0m\u001b[0m\n\u001b[1;32m     24\u001b[0m \u001b[0;34m\u001b[0m\u001b[0m\n\u001b[0;32m---> 25\u001b[0;31m     \u001b[0;32massert\u001b[0m \u001b[0mself\u001b[0m\u001b[0;34m.\u001b[0m\u001b[0mderivee_inputs\u001b[0m\u001b[0;34m.\u001b[0m\u001b[0mshape\u001b[0m \u001b[0;34m==\u001b[0m\u001b[0mself\u001b[0m\u001b[0;34m.\u001b[0m\u001b[0minputs\u001b[0m\u001b[0;34m.\u001b[0m\u001b[0mshape\u001b[0m\u001b[0;34m,\u001b[0m \u001b[0;34mf\"La dérivée output reçcu a un shape {self.derivee_inputs.shape} et différent du shape du param : {self.inputs.shape}\"\u001b[0m\u001b[0;34m\u001b[0m\u001b[0;34m\u001b[0m\u001b[0m\n\u001b[0m\u001b[1;32m     26\u001b[0m \u001b[0;34m\u001b[0m\u001b[0m\n\u001b[1;32m     27\u001b[0m     \u001b[0mself\u001b[0m\u001b[0;34m.\u001b[0m\u001b[0mderivee_param\u001b[0m\u001b[0;34m=\u001b[0m\u001b[0mself\u001b[0m\u001b[0;34m.\u001b[0m\u001b[0mgradient_param\u001b[0m\u001b[0;34m(\u001b[0m\u001b[0mderivee_output\u001b[0m\u001b[0;34m)\u001b[0m\u001b[0;34m\u001b[0m\u001b[0;34m\u001b[0m\u001b[0m\n",
            "\u001b[0;31mAssertionError\u001b[0m: La dérivée output reçcu a un shape (3, 1) et différent du shape du param : (4, 3)"
          ]
        }
      ]
    },
    {
      "cell_type": "code",
      "source": [],
      "metadata": {
        "id": "LffzUtPDdFd3"
      },
      "execution_count": null,
      "outputs": []
    }
  ]
}